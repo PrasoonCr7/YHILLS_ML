{
 "cells": [
  {
   "cell_type": "markdown",
   "id": "e887581b-80a2-46fe-91d4-064fabf37dd8",
   "metadata": {},
   "source": [
    "**Decision Tree**\n",
    "\n",
    "Desicion Tree is a type of supervised learning which is used for classification and regression tasks. They work by recursively partionating the data into subsets based on the significant"
   ]
  },
  {
   "cell_type": "code",
   "execution_count": 9,
   "id": "3bd6a828-fd61-4d1a-b992-5252df9e82d2",
   "metadata": {},
   "outputs": [
    {
     "name": "stdout",
     "output_type": "stream",
     "text": [
      "Accuracy :  0.6666666666666666\n",
      "Confusion Matrix : [[3 1]\n",
      " [1 1]]\n",
      "Classification Report               precision    recall  f1-score   support\n",
      "\n",
      "           0       0.75      0.75      0.75         4\n",
      "           1       0.50      0.50      0.50         2\n",
      "\n",
      "    accuracy                           0.67         6\n",
      "   macro avg       0.62      0.62      0.62         6\n",
      "weighted avg       0.67      0.67      0.67         6\n",
      "\n"
     ]
    }
   ],
   "source": [
    "import pandas as pd\n",
    "import numpy as np\n",
    "from sklearn.model_selection import train_test_split\n",
    "from sklearn.tree import DecisionTreeClassifier\n",
    "from sklearn.metrics import accuracy_score, confusion_matrix, classification_report\n",
    "\n",
    "data = {\n",
    "    'age' : [25,45,35,50,23,33,29,65,44,38,52,48,55,60,22,28,36,40,27,30],\n",
    "    'income' : [50000,60000,70000,100000,45000,65000,48000,120000,80000,62000,110000,90000,100000,95000,42000,20000,46000,30000,43000,23000],\n",
    "    'location' : [1,2,2,1,1,3,1,3,2,3,2,1,3,3,1,2,3,1,2,3],\n",
    "    'bought' : [0,1,0,1,0,1,0,1,0,1,1,1,1,0,0,0,1,1,0,0]\n",
    "}\n",
    "df = pd.DataFrame(data)\n",
    "\n",
    "x = df[['age','income','location']]\n",
    "y = df['bought']\n",
    "\n",
    "x_train,x_test,y_train,y_test = train_test_split(x,y,test_size = 0.3 , random_state = 100)\n",
    "clf = DecisionTreeClassifier()\n",
    "clf.fit(x_train,y_train)\n",
    "\n",
    "y_pred = clf.predict(x_test)\n",
    "\n",
    "accuracy = accuracy_score(y_test,y_pred)\n",
    "conf_matrix = confusion_matrix(y_test,y_pred)\n",
    "class_report = classification_report(y_test,y_pred)\n",
    "print(\"Accuracy : \",accuracy)\n",
    "print(\"Confusion Matrix :\", conf_matrix)\n",
    "print(\"Classification Report\",class_report)\n",
    "    "
   ]
  },
  {
   "cell_type": "code",
   "execution_count": 13,
   "id": "7831b08a-18e1-4477-85cd-41770c17f449",
   "metadata": {},
   "outputs": [
    {
     "name": "stdout",
     "output_type": "stream",
     "text": [
      "random forest accuracy: 0.6666666666666666\n"
     ]
    }
   ],
   "source": [
    "from sklearn.ensemble import RandomForestClassifier\n",
    "random_forest_clf = RandomForestClassifier(n_estimators = 100 , random_state = 42)\n",
    "\n",
    "random_forest_clf.fit(x_train, y_train)\n",
    "y_pred_rf = random_forest_clf.predict(x_test)\n",
    "accuracy_rf = accuracy_score(y_test,y_pred)\n",
    "print(f'random forest accuracy: {accuracy_rf}')\n"
   ]
  },
  {
   "cell_type": "markdown",
   "id": "ed0194b9-575d-41bb-9163-fe9f2dd101c5",
   "metadata": {},
   "source": [
    "**Logestic Regression**\n",
    "\n",
    "It is a machine learning algorithm which is used for binary classification tasks "
   ]
  },
  {
   "cell_type": "code",
   "execution_count": 40,
   "id": "71dace15-33cc-44b7-9f6d-0d9068237bb1",
   "metadata": {},
   "outputs": [
    {
     "name": "stdout",
     "output_type": "stream",
     "text": [
      "[[0.08541123 0.91458877]]\n"
     ]
    },
    {
     "data": {
      "image/png": "[encoded data removed]",
      "text/plain": [
       "<Figure size 640x480 with 1 Axes>"
      ]
     },
     "metadata": {},
     "output_type": "display_data"
    }
   ],
   "source": [
    "import numpy as np\n",
    "import matplotlib.pyplot as plt\n",
    "from sklearn.linear_model import LogisticRegression\n",
    "\n",
    "hours_studied = np.array([1,2,3,4,5,6,7,8,9,10]).reshape(-1,1)\n",
    "pass_fail = ([0,0,0,0,1,1,1,1,1,1])\n",
    "\n",
    "model = LogisticRegression()\n",
    "model.fit(hours_studied,pass_fail)\n",
    "\n",
    "hours_new = np.array([6.5]).reshape(-1,1)\n",
    "probability = model.predict_proba(hours_new)\n",
    "print(probability)\n",
    "\n",
    "plt.figure()\n",
    "plt.scatter(hours_studied,pass_fail,color = 'black')\n",
    "plt.plot(hours_studied,model.predict_proba(hours_studied)[:,1], color = 'blue')\n",
    "plt.xlabel('Hours studied')\n",
    "plt.ylabel('Pass/Fail')\n",
    "plt.title('Logestic Regression')\n",
    "plt.yticks([0,0.25,0.5,0.75,1])\n",
    "plt.show()"
   ]
  },
  {
   "cell_type": "code",
   "execution_count": null,
   "id": "a0205cfb-4595-4663-87d7-0f67d5b8ff93",
   "metadata": {},
   "outputs": [],
   "source": []
  }
 ],
 "metadata": {
  "kernelspec": {
   "display_name": "Python 3 (ipykernel)",
   "language": "python",
   "name": "python3"
  },
  "language_info": {
   "codemirror_mode": {
    "name": "ipython",
    "version": 3
   },
   "file_extension": ".py",
   "mimetype": "text/x-python",
   "name": "python",
   "nbconvert_exporter": "python",
   "pygments_lexer": "ipython3",
   "version": "3.12.4"
  }
 },
 "nbformat": 4,
 "nbformat_minor": 5
}
