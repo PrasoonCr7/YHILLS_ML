{
 "cells": [
  {
   "cell_type": "markdown",
   "id": "485af3b3-49c9-4883-9a9d-62e8ff6e02d2",
   "metadata": {},
   "source": [
    "**Mean**\n",
    "\n",
    "The mean is the average value of all the values.\n"
   ]
  },
  {
   "cell_type": "code",
   "execution_count": 4,
   "id": "3a287bfd-5c13-4c3f-a54f-840c5a1101ba",
   "metadata": {},
   "outputs": [
    {
     "name": "stdout",
     "output_type": "stream",
     "text": [
      "Average Valuue: 5.5\n"
     ]
    }
   ],
   "source": [
    "m = (1+2+3+4+5+6+7+8+9+10)/10\n",
    "print(\"Average Valuue:\" , m)"
   ]
  },
  {
   "cell_type": "code",
   "execution_count": 3,
   "id": "c9a26de8-b1fc-4fa1-bcdf-1b6a7f7df8bb",
   "metadata": {},
   "outputs": [
    {
     "name": "stdout",
     "output_type": "stream",
     "text": [
      "5.5\n"
     ]
    }
   ],
   "source": [
    "import statistics as st\n",
    "value = [1,2,3,4,5,6,7,8,9,10]\n",
    "m = st.mean(value)\n",
    "print(m)"
   ]
  },
  {
   "cell_type": "code",
   "execution_count": 4,
   "id": "c85842c1-6355-49e8-84de-d2036684edaa",
   "metadata": {},
   "outputs": [
    {
     "name": "stdout",
     "output_type": "stream",
     "text": [
      "Median Value : 87\n"
     ]
    }
   ],
   "source": [
    "m1 = [99,86,87,88,111,86,103,87,94,78,77,85,86]\n",
    "m = st.median(m1)\n",
    "print(\"Median Value :\" , m)"
   ]
  },
  {
   "cell_type": "code",
   "execution_count": 7,
   "id": "94e5ed6a-080f-47f9-824f-9775c04c6492",
   "metadata": {},
   "outputs": [
    {
     "name": "stdout",
     "output_type": "stream",
     "text": [
      "Mode Value : 86\n"
     ]
    }
   ],
   "source": [
    "m1 = [99,86,87,88,111,86,103,87,94,78,77,85,86]\n",
    "m = st.mode(m1)\n",
    "print(\"Mode Value :\" , m)"
   ]
  },
  {
   "cell_type": "markdown",
   "id": "b58079e1-3274-40fc-a866-04fa66b18eb0",
   "metadata": {},
   "source": [
    "** Standard Deviation **\n",
    "\n",
    "Standard deviation is a measure how spread out or dispersed the values in a set of data are. it tells you how much the values in your data set differ from the values in your data set differ from the mean (average) of the data. "
   ]
  },
  {
   "cell_type": "code",
   "execution_count": 12,
   "id": "66ea974e-77af-41aa-8ee0-dd20544598f1",
   "metadata": {},
   "outputs": [
    {
     "name": "stdout",
     "output_type": "stream",
     "text": [
      "27.067816067549053\n"
     ]
    }
   ],
   "source": [
    "import numpy\n",
    "values = [45,98,37]\n",
    "x = numpy.std(values)\n",
    "print(x)"
   ]
  },
  {
   "cell_type": "markdown",
   "id": "ba753ac6-88ec-4519-a3cf-6083d20298d9",
   "metadata": {},
   "source": [
    "**Supervised Learning**\n",
    "\n",
    "It is a type of machine learning where the models is trained using labeled data. Labeled data means that each training using labeled data. Labeled data means that each training example is paired with an output\n",
    "\n",
    "Common Algorithm\n",
    "\n",
    "1. Linear regression\n",
    "2. Logistic regression\n",
    "3. Decision Tree\n",
    "4. Support Vector Machine\n",
    "5. Nueral Network\n",
    "6. Random Forest"
   ]
  },
  {
   "cell_type": "markdown",
   "id": "fbbf484c-df47-4a6b-8999-99888c67e941",
   "metadata": {},
   "source": [
    "**Unsupervised Learning**\n",
    "\n",
    "It is a type of machine Learning in which we use unlabeled data to train the mode. unlabeled means the data dont come with predefined labels or categories\n",
    "\n",
    "Common Algorithms\n",
    "\n",
    "1. k means clustering\n",
    "2. Hierarchical Clustering\n",
    "3. Principle Component Analysis\n",
    "4. t-Distributed Stochastic Neighbor Embedding (t-SNE)"
   ]
  },
  {
   "cell_type": "markdown",
   "id": "f63ca8e0-7447-45f5-b184-2d1089d7c636",
   "metadata": {},
   "source": [
    "**Regression** -\n",
    "In ML Regression is used to predict the outcome of the future events.\n",
    "\n",
    "**Linear Regression**\n",
    "It Uses the relationship between the data points to draw straight line through all of them and this straight line through all of them and this straight line can be used to predict the future values.\n",
    "\n",
    "**Logistic Regression**\n",
    "It aims to solve the classification problem.\n",
    "It does thid by predicting categorical outcomes , Unlike linear regression that predict continuous."
   ]
  },
  {
   "cell_type": "code",
   "execution_count": null,
   "id": "1a45a713-62fd-4036-8078-b54a270aebbd",
   "metadata": {},
   "outputs": [],
   "source": []
  }
 ],
 "metadata": {
  "kernelspec": {
   "display_name": "Python 3 (ipykernel)",
   "language": "python",
   "name": "python3"
  },
  "language_info": {
   "codemirror_mode": {
    "name": "ipython",
    "version": 3
   },
   "file_extension": ".py",
   "mimetype": "text/x-python",
   "name": "python",
   "nbconvert_exporter": "python",
   "pygments_lexer": "ipython3",
   "version": "3.12.4"
  }
 },
 "nbformat": 4,
 "nbformat_minor": 5
}
