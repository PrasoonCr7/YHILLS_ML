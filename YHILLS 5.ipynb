{
 "cells": [
  {
   "cell_type": "markdown",
   "id": "667dc99e-87a9-4ef8-8b4b-8865434fc028",
   "metadata": {},
   "source": [
    "1.  Numpy is a python library which is used to work with arrays.\n",
    "\n",
    "2.  It also has functions for working in domain of linear algebra , fourier transform , and matrics."
   ]
  },
  {
   "cell_type": "code",
   "execution_count": 3,
   "id": "73b60e96-e39b-4bee-9b4c-c66b0e33cebd",
   "metadata": {},
   "outputs": [
    {
     "name": "stdout",
     "output_type": "stream",
     "text": [
      "Requirement already satisfied: numpy in c:\\users\\brij\\anaconda3\\lib\\site-packages (1.26.4)Note: you may need to restart the kernel to use updated packages.\n",
      "\n"
     ]
    }
   ],
   "source": [
    "pip install numpy\n"
   ]
  },
  {
   "cell_type": "code",
   "execution_count": 50,
   "id": "8d4bf520-9d5b-473c-af5b-f5e073c2ebd6",
   "metadata": {},
   "outputs": [
    {
     "name": "stdout",
     "output_type": "stream",
     "text": [
      "[1 2 3 4 5]\n"
     ]
    }
   ],
   "source": [
    "import numpy\n",
    "arr = numpy.array([1,2,3,4,5])\n",
    "print(arr)\n"
   ]
  },
  {
   "cell_type": "code",
   "execution_count": 52,
   "id": "b5f1864a-659b-43ad-9d5e-4c64cdcc5735",
   "metadata": {},
   "outputs": [
    {
     "name": "stdout",
     "output_type": "stream",
     "text": [
      "[1 2 3 4 5]\n"
     ]
    }
   ],
   "source": [
    "import numpy as np  # It is alias\n",
    "arr = np.array([1,2,3,4,5])\n",
    "print(arr)\n"
   ]
  },
  {
   "cell_type": "code",
   "execution_count": 54,
   "id": "3b4fb958-275f-4573-af9f-9a7500099fd9",
   "metadata": {},
   "outputs": [
    {
     "data": {
      "text/plain": [
       "numpy.ndarray"
      ]
     },
     "execution_count": 54,
     "metadata": {},
     "output_type": "execute_result"
    }
   ],
   "source": [
    "type(arr)"
   ]
  },
  {
   "cell_type": "code",
   "execution_count": 55,
   "id": "6a3248e4-ce65-4c10-9604-ead432c77efb",
   "metadata": {},
   "outputs": [
    {
     "name": "stdout",
     "output_type": "stream",
     "text": [
      "[43]\n"
     ]
    },
    {
     "data": {
      "text/plain": [
       "numpy.ndarray"
      ]
     },
     "execution_count": 55,
     "metadata": {},
     "output_type": "execute_result"
    }
   ],
   "source": [
    "arr = np.array([43]) # 0 Dimensional array bcoz of 1 element\n",
    "print(arr)\n",
    "type(arr)"
   ]
  },
  {
   "cell_type": "code",
   "execution_count": 57,
   "id": "1e2850a6-0b6c-4dbc-82ec-9bc8957d80a5",
   "metadata": {},
   "outputs": [
    {
     "name": "stdout",
     "output_type": "stream",
     "text": [
      "[1 2 3 4 5 6]\n"
     ]
    }
   ],
   "source": [
    "arr = np.array([1,2,3,4,5,6]) # 1 Dimensional array bcoz of more than 1 element\n",
    "print(arr)"
   ]
  },
  {
   "cell_type": "code",
   "execution_count": 59,
   "id": "25d706bc-371f-4d12-a68c-0ddb3cb2f81e",
   "metadata": {},
   "outputs": [
    {
     "name": "stdout",
     "output_type": "stream",
     "text": [
      "[[1 2 3]\n",
      " [4 5 6]]\n"
     ]
    }
   ],
   "source": [
    "arr = np.array([[1,2,3],[4,5,6]]) # 2 Dimensional array bcoz of more than 1 element in 2 frames\n",
    "print(arr)"
   ]
  },
  {
   "cell_type": "code",
   "execution_count": 61,
   "id": "8014238b-d5ec-4b89-9790-80635e2626f5",
   "metadata": {},
   "outputs": [
    {
     "name": "stdout",
     "output_type": "stream",
     "text": [
      "[[[1 2 3]\n",
      "  [4 5 6]\n",
      "  [7 8 9]]]\n",
      "Array Dimension - 3\n"
     ]
    }
   ],
   "source": [
    "arr = np.array([[[1,2,3],[4,5,6],[7,8,9]]]) # 3 Dimensional array bcoz of more than 1 element in 3 frames\n",
    "print(arr)\n",
    "print(\"Array Dimension -\",arr.ndim)"
   ]
  },
  {
   "cell_type": "code",
   "execution_count": 64,
   "id": "cb1d9015-e3be-49a2-b98d-a84028442a34",
   "metadata": {},
   "outputs": [
    {
     "name": "stdout",
     "output_type": "stream",
     "text": [
      "[[[[[[[[[[[[[[[[[[[[[[[[[[[[[[[[1 2 3 4]]]]]]]]]]]]]]]]]]]]]]]]]]]]]]]]\n",
      "Dimensions: 32\n"
     ]
    }
   ],
   "source": [
    " arr = np.array([1,2,3,4],ndmin = 32) # ndmin is used for give the dimension by user\n",
    "print(arr)\n",
    "print(\"Dimensions:\" , arr.ndim)"
   ]
  },
  {
   "cell_type": "code",
   "execution_count": 66,
   "id": "3127a645-4180-4319-9a2f-d5338774bb04",
   "metadata": {},
   "outputs": [
    {
     "name": "stdout",
     "output_type": "stream",
     "text": [
      "[1 2 3 4]\n",
      "Dimensions: 1\n"
     ]
    }
   ],
   "source": [
    " arr = np.array([1,2,3,4],ndmin = 0) # ndmin is used for give the dimension by user\n",
    "print(arr)\n",
    "print(\"Dimensions:\" , arr.ndim)\n",
    "\n",
    "# it will give 1D because more than one element"
   ]
  },
  {
   "cell_type": "code",
   "execution_count": 68,
   "id": "48b4dc9a-4a23-45aa-8dc9-5007511b8e51",
   "metadata": {},
   "outputs": [
    {
     "name": "stdout",
     "output_type": "stream",
     "text": [
      "56\n"
     ]
    }
   ],
   "source": [
    "arr = np.array([1,2,3,4,56,6])\n",
    "print(arr[4])\n",
    "\n",
    "# It is working as give the element on the given index number"
   ]
  },
  {
   "cell_type": "code",
   "execution_count": 70,
   "id": "5cd8164a-035d-4c20-9cac-a7630cb31845",
   "metadata": {},
   "outputs": [
    {
     "name": "stdout",
     "output_type": "stream",
     "text": [
      "2\n"
     ]
    }
   ],
   "source": [
    "arr = np.array([[1,2,3],[4,5,6]]) # 2 Dimensional array bcoz of more than 1 element\n",
    "print(arr[0,1])"
   ]
  },
  {
   "cell_type": "code",
   "execution_count": 72,
   "id": "0d84c0e1-279e-4abc-9d07-9a4b245c5e1d",
   "metadata": {},
   "outputs": [
    {
     "name": "stdout",
     "output_type": "stream",
     "text": [
      "5\n"
     ]
    }
   ],
   "source": [
    " arr = np.array([[[1,2,3],[4,5,6],[7,8,9]]]) # 3 Dimensional array bcoz of more than 1 element\n",
    "print(arr[0,1,1])"
   ]
  },
  {
   "cell_type": "code",
   "execution_count": 74,
   "id": "bb047931-c64c-4e37-ba68-9a71ed401eaa",
   "metadata": {},
   "outputs": [
    {
     "name": "stdout",
     "output_type": "stream",
     "text": [
      "8\n"
     ]
    }
   ],
   "source": [
    " arr = np.array([[[1,2,3],[4,5,6]],[[7,8,9],[10,11,12]]]) # 3 Dimensional array bcoz of more than 1 element\n",
    "print(arr[1,0,1])"
   ]
  },
  {
   "cell_type": "code",
   "execution_count": 76,
   "id": "8526199e-1bd2-4da5-8159-8ef8f16f416e",
   "metadata": {},
   "outputs": [
    {
     "name": "stdout",
     "output_type": "stream",
     "text": [
      "[2 3 4]\n"
     ]
    }
   ],
   "source": [
    "arr = np.array([1,2,3,4,5,6])   # Slicing\n",
    "print(arr[1:4])"
   ]
  },
  {
   "cell_type": "code",
   "execution_count": 78,
   "id": "e29504b5-0e83-4447-bf53-4a0b1d670898",
   "metadata": {},
   "outputs": [
    {
     "name": "stdout",
     "output_type": "stream",
     "text": [
      "[2 5 8]\n"
     ]
    }
   ],
   "source": [
    "arr = np.array([1,2,3,4,5,6,7,8,9,10,11,12])   # Slicing\n",
    "print(arr[1:9:3])"
   ]
  },
  {
   "cell_type": "code",
   "execution_count": 97,
   "id": "b703babf-5676-4171-ab2c-4a49b5d71b6e",
   "metadata": {},
   "outputs": [
    {
     "name": "stdout",
     "output_type": "stream",
     "text": [
      "[1 2 3 4]\n",
      "[7 8]\n"
     ]
    }
   ],
   "source": [
    "arr = np.array ([[1,2,3,4,5],[6,7,8,9,10]])\n",
    "\n",
    "print(arr[0, 0:4])\n",
    "print(arr[1, 1:3])"
   ]
  },
  {
   "cell_type": "markdown",
   "id": "038d7fd2-e9b0-4094-9c74-b6e8cd6d2ba2",
   "metadata": {},
   "source": [
    "Shape of an array the shape of an array is the number of elements in each dimension."
   ]
  },
  {
   "cell_type": "code",
   "execution_count": 114,
   "id": "ea2e7fff-d5fe-416a-be7b-3d962cea32b0",
   "metadata": {},
   "outputs": [
    {
     "name": "stdout",
     "output_type": "stream",
     "text": [
      "(2, 3)\n"
     ]
    }
   ],
   "source": [
    "arr = np.array([[1,2,3] , [4,5,6]]) # 2 dimension and 3 elements in it\n",
    "\n",
    "print(arr.shape)"
   ]
  },
  {
   "cell_type": "markdown",
   "id": "5f90a340-ba6d-45bb-90ce-84dbf1b60d5a",
   "metadata": {},
   "source": [
    "Reshapping Array - change the shape of an array. The shape of an array is the number of elements in each Dimension"
   ]
  },
  {
   "cell_type": "code",
   "execution_count": 124,
   "id": "f63003af-8d62-42c9-acdc-9b90f6cb9a2d",
   "metadata": {},
   "outputs": [
    {
     "name": "stdout",
     "output_type": "stream",
     "text": [
      "[[ 1  2  3]\n",
      " [ 4  5  6]\n",
      " [ 7  8  9]\n",
      " [10 11 12]]\n"
     ]
    }
   ],
   "source": [
    "arr = np.array([1,2,3,4,5,6,7,8,9,10,11,12])\n",
    "newarr = arr.reshape(4,3)\n",
    "print(newarr)"
   ]
  },
  {
   "cell_type": "code",
   "execution_count": 132,
   "id": "c7a59a6a-e76f-4bbd-927b-93acae6a804f",
   "metadata": {},
   "outputs": [
    {
     "name": "stdout",
     "output_type": "stream",
     "text": [
      "[[[ 1  2]\n",
      "  [ 3  4]\n",
      "  [ 5  6]]\n",
      "\n",
      " [[ 7  8]\n",
      "  [ 9 10]\n",
      "  [11 12]]]\n"
     ]
    }
   ],
   "source": [
    "arr = np.array([1,2,3,4,5,6,7,8,9,10,11,12])\n",
    "newarr = arr.reshape(2,3,2)\n",
    "print(newarr)"
   ]
  },
  {
   "cell_type": "code",
   "execution_count": 134,
   "id": "0c1af680-8be6-4d2e-a374-62d7734ea22a",
   "metadata": {},
   "outputs": [
    {
     "name": "stdout",
     "output_type": "stream",
     "text": [
      "1\n",
      "2\n",
      "3\n",
      "4\n",
      "5\n",
      "6\n",
      "7\n",
      "8\n",
      "9\n",
      "10\n",
      "11\n",
      "12\n"
     ]
    }
   ],
   "source": [
    "arr = np.array([1,2,3,4,5,6,7,8,9,10,11,12])\n",
    "for x in arr:\n",
    "    print(x)"
   ]
  },
  {
   "cell_type": "code",
   "execution_count": 138,
   "id": "a7924ae7-8ab5-4096-bb8b-98cc2063fed0",
   "metadata": {},
   "outputs": [
    {
     "name": "stdout",
     "output_type": "stream",
     "text": [
      "[1 2 3 4]\n",
      "[ 7  8  9 10]\n"
     ]
    }
   ],
   "source": [
    "arr = np.array([[1,2,3,4],[7,8,9,10]])\n",
    "for x in arr:\n",
    "    print(x)"
   ]
  },
  {
   "cell_type": "markdown",
   "id": "b719ed4f-6f20-4915-989a-b539e25b70ac",
   "metadata": {},
   "source": [
    "Joining Arrays - joining means puting contents of two or more array in a single array.\n"
   ]
  },
  {
   "cell_type": "code",
   "execution_count": 145,
   "id": "5fa37920-660b-4990-8dd8-7cae90e467f7",
   "metadata": {},
   "outputs": [
    {
     "name": "stdout",
     "output_type": "stream",
     "text": [
      "[1 2 3 4 5 6]\n"
     ]
    }
   ],
   "source": [
    "arr1 = np.array([1,2,3])   # concatenate means merge the values\n",
    "arr2 = np.array([4,5,6])\n",
    "arr = np.concatenate((arr1,arr2))\n",
    "print(arr)"
   ]
  },
  {
   "cell_type": "code",
   "execution_count": null,
   "id": "ab66e727-b428-43af-a770-d8bc78d1497f",
   "metadata": {},
   "outputs": [],
   "source": []
  }
 ],
 "metadata": {
  "kernelspec": {
   "display_name": "Python 3 (ipykernel)",
   "language": "python",
   "name": "python3"
  },
  "language_info": {
   "codemirror_mode": {
    "name": "ipython",
    "version": 3
   },
   "file_extension": ".py",
   "mimetype": "text/x-python",
   "name": "python",
   "nbconvert_exporter": "python",
   "pygments_lexer": "ipython3",
   "version": "3.12.4"
  }
 },
 "nbformat": 4,
 "nbformat_minor": 5
}
