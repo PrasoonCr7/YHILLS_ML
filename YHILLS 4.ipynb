{
 "cells": [
  {
   "cell_type": "markdown",
   "id": "f607d9ca-b647-4411-801b-3301439406b8",
   "metadata": {},
   "source": [
    "A Directory is a collection of files and subdirectories. \n",
    "\n",
    "A Directory inside a directory is known as a subdirectory. \n",
    "\n",
    "A file is some information or data which stays in the computer storage devices.\n"
   ]
  },
  {
   "cell_type": "markdown",
   "id": "fbb7734c-5241-4028-a209-c69f8f638e7e",
   "metadata": {},
   "source": [
    "File Handling - The key function for working with files is open() function. The open() function takes two parameters, filesname and mode(method).\n",
    "\n",
    "There are 4 modes we have:\n",
    "1. \"r\" (read) \n",
    "2. \"a\" (append)\n",
    "3. \"w\" (write)\n",
    "4. \"x\" (create) "
   ]
  },
  {
   "cell_type": "code",
   "execution_count": null,
   "id": "d90a374f-d1ab-418e-9523-fcc5aec088b6",
   "metadata": {},
   "outputs": [],
   "source": []
  },
  {
   "cell_type": "code",
   "execution_count": null,
   "id": "b89eeddd-8b44-4780-8eb9-e36fccd38370",
   "metadata": {},
   "outputs": [],
   "source": []
  }
 ],
 "metadata": {
  "kernelspec": {
   "display_name": "Python 3 (ipykernel)",
   "language": "python",
   "name": "python3"
  },
  "language_info": {
   "codemirror_mode": {
    "name": "ipython",
    "version": 3
   },
   "file_extension": ".py",
   "mimetype": "text/x-python",
   "name": "python",
   "nbconvert_exporter": "python",
   "pygments_lexer": "ipython3",
   "version": "3.12.4"
  }
 },
 "nbformat": 4,
 "nbformat_minor": 5
}
