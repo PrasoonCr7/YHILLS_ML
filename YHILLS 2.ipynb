{
 "cells": [
  {
   "cell_type": "markdown",
   "id": "8de92935-a0a7-4e6f-bb74-0e122ba787d1",
   "metadata": {},
   "source": [
    "# 1. List are used to store multiple items in a single variable.\n",
    "# 2. List are created using [] brackets.\n",
    "# 3. List allows duplicate values."
   ]
  },
  {
   "cell_type": "code",
   "execution_count": 16,
   "id": "031e6184-dd4c-4730-9725-0c0d94625de6",
   "metadata": {},
   "outputs": [
    {
     "name": "stdout",
     "output_type": "stream",
     "text": [
      "['apple', 'mango', 'banana']\n"
     ]
    }
   ],
   "source": [
    "thislist = [\"apple\",\"mango\",\"banana\"]\n",
    "print(thislist)"
   ]
  },
  {
   "cell_type": "code",
   "execution_count": 18,
   "id": "387a6498-4664-424c-86e1-bd42c72f66fd",
   "metadata": {},
   "outputs": [
    {
     "data": {
      "text/plain": [
       "list"
      ]
     },
     "execution_count": 18,
     "metadata": {},
     "output_type": "execute_result"
    }
   ],
   "source": [
    "type(thislist)"
   ]
  },
  {
   "cell_type": "code",
   "execution_count": 20,
   "id": "3fac3d47-e93e-41e8-9f60-ea023b6c9185",
   "metadata": {},
   "outputs": [
    {
     "name": "stdout",
     "output_type": "stream",
     "text": [
      "['apple', 1, 2.3, 5j, True]\n"
     ]
    }
   ],
   "source": [
    "thislist2 = [\"apple\", 1 , 2.3 ,5j , True]  # List give the output of string item in ''.\n",
    "print(thislist2)"
   ]
  },
  {
   "cell_type": "code",
   "execution_count": 22,
   "id": "a1e7c4a9-1f8f-43ef-98f2-388960f241a5",
   "metadata": {},
   "outputs": [
    {
     "data": {
      "text/plain": [
       "list"
      ]
     },
     "execution_count": 22,
     "metadata": {},
     "output_type": "execute_result"
    }
   ],
   "source": [
    "type(thislist2)"
   ]
  },
  {
   "cell_type": "code",
   "execution_count": 27,
   "id": "ab3301db-e35d-4286-a272-850df75c31ab",
   "metadata": {},
   "outputs": [
    {
     "name": "stdout",
     "output_type": "stream",
     "text": [
      "['apple', 'bananas', 'mangos', 'apple', 'grapes', 'pineaple', 'papaya', 'orange']\n"
     ]
    }
   ],
   "source": [
    "fruits = [\"apple\",\"bananas\",\"mangos\",\"apple\",\"grapes\",\"pineaple\",\"papaya\",\"orange\"] # List allows duplicate value = apple\n",
    "print(fruits)"
   ]
  },
  {
   "cell_type": "code",
   "execution_count": 31,
   "id": "b8aa45cb-40e2-4344-b056-df9c370661f0",
   "metadata": {},
   "outputs": [
    {
     "data": {
      "text/plain": [
       "8"
      ]
     },
     "execution_count": 31,
     "metadata": {},
     "output_type": "execute_result"
    }
   ],
   "source": [
    "len(fruits)"
   ]
  },
  {
   "cell_type": "code",
   "execution_count": 33,
   "id": "ba3e104f-cff8-4722-b973-9e6f0f29663e",
   "metadata": {},
   "outputs": [
    {
     "name": "stdout",
     "output_type": "stream",
     "text": [
      "mangos\n",
      "apple\n"
     ]
    }
   ],
   "source": [
    "# Indexing\n",
    "print(fruits[2])\n",
    "print(fruits[3])"
   ]
  },
  {
   "cell_type": "code",
   "execution_count": 35,
   "id": "6822d82b-a666-4862-9a53-38139895c8f6",
   "metadata": {},
   "outputs": [
    {
     "name": "stdout",
     "output_type": "stream",
     "text": [
      "orange\n",
      "grapes\n"
     ]
    }
   ],
   "source": [
    "#Negative Indexing\n",
    "print(fruits[-1])\n",
    "print(fruits[-4])    "
   ]
  },
  {
   "cell_type": "code",
   "execution_count": 37,
   "id": "a2f5fa4b-ad8c-4e86-9b25-34d11249196e",
   "metadata": {},
   "outputs": [
    {
     "name": "stdout",
     "output_type": "stream",
     "text": [
      "['bananas', 'mangos', 'apple', 'grapes', 'pineaple', 'papaya', 'orange']\n"
     ]
    }
   ],
   "source": [
    "print(fruits[1:8])"
   ]
  },
  {
   "cell_type": "code",
   "execution_count": 45,
   "id": "42f5fdc7-e0f5-478e-9f5a-4e584767ab8b",
   "metadata": {},
   "outputs": [
    {
     "name": "stdout",
     "output_type": "stream",
     "text": [
      "Yes , It is there\n"
     ]
    }
   ],
   "source": [
    "# Conditional Statement\n",
    "if \"bananas\" in fruits:\n",
    " print(\"Yes , It is there\")\n",
    "else:\n",
    " print(\"No , It is not there\")"
   ]
  },
  {
   "cell_type": "code",
   "execution_count": 46,
   "id": "a37e82b6-990d-450b-b55e-bea2c2b82e82",
   "metadata": {},
   "outputs": [
    {
     "name": "stdout",
     "output_type": "stream",
     "text": [
      "No , It is not there\n"
     ]
    }
   ],
   "source": [
    "if \"kiwi\" in fruits:\n",
    " print(\"Yes , It is there\")\n",
    "else:\n",
    " print(\"No , It is not there\")"
   ]
  },
  {
   "cell_type": "code",
   "execution_count": 50,
   "id": "cc34c5ab-08ad-48d7-901b-18a80a78f6cc",
   "metadata": {},
   "outputs": [
    {
     "name": "stdout",
     "output_type": "stream",
     "text": [
      "['apple', 'blackcurrent', 'cherry']\n"
     ]
    }
   ],
   "source": [
    "thislist = [\"apple\",\"banana\",\"cherry\"]\n",
    "thislist[1] = \"blackcurrent\"\n",
    "print(thislist)"
   ]
  },
  {
   "cell_type": "code",
   "execution_count": 52,
   "id": "4f7eeb97-36f1-4d80-b435-9c6c0c25d690",
   "metadata": {},
   "outputs": [
    {
     "name": "stdout",
     "output_type": "stream",
     "text": [
      "['apple', 'banana', 'cherry', 'Kiwi']\n"
     ]
    }
   ],
   "source": [
    "thislist = [\"apple\",\"banana\",\"cherry\"]\n",
    "thislist.append(\"Kiwi\")\n",
    "print(thislist)"
   ]
  },
  {
   "cell_type": "code",
   "execution_count": 56,
   "id": "a1a0892e-3038-4bbf-ab32-c2ef886d9002",
   "metadata": {},
   "outputs": [
    {
     "name": "stdout",
     "output_type": "stream",
     "text": [
      "['apple', 'papaya', 'banana', 'cherry']\n"
     ]
    }
   ],
   "source": [
    "thislist = [\"apple\",\"banana\",\"cherry\"]\n",
    "thislist.insert(1,\"papaya\")\n",
    "print(thislist)"
   ]
  },
  {
   "cell_type": "code",
   "execution_count": 64,
   "id": "cb83be62-139d-474e-a590-3ea5bddbbf3d",
   "metadata": {},
   "outputs": [
    {
     "name": "stdout",
     "output_type": "stream",
     "text": [
      "['apple', 'banana']\n"
     ]
    }
   ],
   "source": [
    "thislist = [\"apple\",\"banana\",\"cherry\"]\n",
    "thislist.remove(\"cherry\") # Remove will take the item and value as an input\n",
    "print(thislist)"
   ]
  },
  {
   "cell_type": "code",
   "execution_count": 1,
   "id": "efb36b0e-cc44-45dc-96da-5ccf27db2e6c",
   "metadata": {},
   "outputs": [
    {
     "name": "stdout",
     "output_type": "stream",
     "text": [
      "['apple', 'cherry']\n"
     ]
    }
   ],
   "source": [
    "thislist = [\"apple\",\"banana\",\"cherry\"]\n",
    "thislist.pop(1) # Pop will take the index number as an input\n",
    "print(thislist)"
   ]
  },
  {
   "cell_type": "markdown",
   "id": "907b02b0-30ca-4492-b436-0d0ff0c9cfe3",
   "metadata": {},
   "source": [
    "# Tuples are used to store multiple iteams in a single variable. A tuple is a collection which is ordered and unchangeable. \n",
    "# Tuples are written with round brackets\n",
    "\n"
   ]
  },
  {
   "cell_type": "code",
   "execution_count": 9,
   "id": "c9d4cf3f-152f-493d-ad50-aa8f310a67b4",
   "metadata": {},
   "outputs": [
    {
     "name": "stdout",
     "output_type": "stream",
     "text": [
      "('apple', 'mango', 'banana', 'kiwi', 'peach', 'papaya', 'orange')\n"
     ]
    },
    {
     "data": {
      "text/plain": [
       "tuple"
      ]
     },
     "execution_count": 9,
     "metadata": {},
     "output_type": "execute_result"
    }
   ],
   "source": [
    "tup = ('apple' , 'mango' , 'banana', 'kiwi' , \"peach\" , \"papaya\" , \"orange\")\n",
    "print(tup)\n",
    "type(tup)"
   ]
  },
  {
   "cell_type": "code",
   "execution_count": 11,
   "id": "d9c57a53-85b5-4114-9fc8-cf5c256f78b4",
   "metadata": {},
   "outputs": [
    {
     "data": {
      "text/plain": [
       "7"
      ]
     },
     "execution_count": 11,
     "metadata": {},
     "output_type": "execute_result"
    }
   ],
   "source": [
    "len(tup)\n"
   ]
  },
  {
   "cell_type": "code",
   "execution_count": 15,
   "id": "e0c3b607-363e-4ca0-9066-00029747bdc3",
   "metadata": {},
   "outputs": [
    {
     "name": "stdout",
     "output_type": "stream",
     "text": [
      "banana\n"
     ]
    }
   ],
   "source": [
    "print(tup[2])"
   ]
  },
  {
   "cell_type": "code",
   "execution_count": 18,
   "id": "d96ab983-9b33-401e-a371-17ff5d363eca",
   "metadata": {},
   "outputs": [
    {
     "name": "stdout",
     "output_type": "stream",
     "text": [
      "('mango', 'banana', 'kiwi', 'peach', 'papaya')\n"
     ]
    }
   ],
   "source": [
    "print(tup[1:6])"
   ]
  },
  {
   "cell_type": "code",
   "execution_count": 20,
   "id": "6b7e0009-8d64-488d-977c-2d025533da38",
   "metadata": {},
   "outputs": [
    {
     "name": "stdout",
     "output_type": "stream",
     "text": [
      "('apple', 'cherry', 'banana')\n"
     ]
    }
   ],
   "source": [
    "x = (\"apple\" , \"kiwi\" , \"banana\")\n",
    "y = list(x)\n",
    "y[1] = \"cherry\"\n",
    "x = tuple(y)\n",
    "print(x)"
   ]
  },
  {
   "cell_type": "code",
   "execution_count": 24,
   "id": "aeb97bc4-7a65-4664-8da1-0c47a9b44273",
   "metadata": {},
   "outputs": [
    {
     "name": "stdout",
     "output_type": "stream",
     "text": [
      "('apple', 'banana')\n"
     ]
    }
   ],
   "source": [
    "x = (\"apple\" , \"kiwi\" , \"banana\")\n",
    "y = list(x)\n",
    "y.remove(\"kiwi\")\n",
    "x = tuple(y)\n",
    "print(x)"
   ]
  },
  {
   "cell_type": "code",
   "execution_count": 26,
   "id": "c5beeb65-c07d-4356-b99c-7dc1681ddc1b",
   "metadata": {},
   "outputs": [
    {
     "name": "stdout",
     "output_type": "stream",
     "text": [
      "('apple', 'banana', 'cherry')\n"
     ]
    },
    {
     "ename": "NameError",
     "evalue": "name 'x' is not defined",
     "output_type": "error",
     "traceback": [
      "\u001b[1;31m---------------------------------------------------------------------------\u001b[0m",
      "\u001b[1;31mNameError\u001b[0m                                 Traceback (most recent call last)",
      "Cell \u001b[1;32mIn[26], line 4\u001b[0m\n\u001b[0;32m      2\u001b[0m \u001b[38;5;28mprint\u001b[39m(x)\n\u001b[0;32m      3\u001b[0m \u001b[38;5;28;01mdel\u001b[39;00m(x)\n\u001b[1;32m----> 4\u001b[0m \u001b[38;5;28mprint\u001b[39m(\u001b[43mx\u001b[49m)\n",
      "\u001b[1;31mNameError\u001b[0m: name 'x' is not defined"
     ]
    }
   ],
   "source": [
    "x = (\"apple\",\"banana\",\"cherry\")\n",
    "print(x)\n",
    "del(x)\n",
    "print(x)"
   ]
  },
  {
   "cell_type": "markdown",
   "id": "40ee9ff6-5e34-4a5b-a380-cd4e33d8d747",
   "metadata": {},
   "source": [
    "# Sets are used to store multiple iteams in a single variable.\n",
    "# A set is a collection which is unordered,unchangeable set written using {}.\n",
    "# Duplicates values are not allowed."
   ]
  },
  {
   "cell_type": "code",
   "execution_count": 34,
   "id": "3d494bd8-5c0e-49ff-b45b-44cd710d1cf7",
   "metadata": {},
   "outputs": [
    {
     "name": "stdout",
     "output_type": "stream",
     "text": [
      "{'BANANA', 'CHERY', 'APPLE'}\n",
      "<class 'set'>\n"
     ]
    }
   ],
   "source": [
    "thisset = {\"APPLE\", \"BANANA\" ,\"CHERY\"}\n",
    "print(thisset)\n",
    "print(type(thisset))"
   ]
  },
  {
   "cell_type": "code",
   "execution_count": 36,
   "id": "720fc537-1db5-4e2f-80d9-a5ed4ac5373a",
   "metadata": {},
   "outputs": [
    {
     "name": "stdout",
     "output_type": "stream",
     "text": [
      "{'BANANA', 'CHERY', 'APPLE'}\n"
     ]
    }
   ],
   "source": [
    "thisset = {\"APPLE\", \"BANANA\" ,\"CHERY\", \"APPLE\"}\n",
    "print(thisset)"
   ]
  },
  {
   "cell_type": "code",
   "execution_count": 38,
   "id": "ba5b6ff6-0ca0-4836-aa2e-0c3d0657b519",
   "metadata": {},
   "outputs": [
    {
     "data": {
      "text/plain": [
       "3"
      ]
     },
     "execution_count": 38,
     "metadata": {},
     "output_type": "execute_result"
    }
   ],
   "source": [
    "len(thisset)"
   ]
  },
  {
   "cell_type": "code",
   "execution_count": 46,
   "id": "1633fb31-c969-490c-b540-dc06549e63a4",
   "metadata": {},
   "outputs": [
    {
     "name": "stdout",
     "output_type": "stream",
     "text": [
      "banana\n",
      "apple\n",
      "cherry\n"
     ]
    }
   ],
   "source": [
    "thisset = {\"apple\" , \"banana\" , \"cherry\"}\n",
    "for x in thisset:\n",
    " print(x)"
   ]
  },
  {
   "cell_type": "code",
   "execution_count": 48,
   "id": "2c412b0d-e6d8-4a48-a2e8-7324d2d83e34",
   "metadata": {},
   "outputs": [
    {
     "name": "stdout",
     "output_type": "stream",
     "text": [
      "False\n"
     ]
    }
   ],
   "source": [
    "thisset = {\"apple\" , \"banana\" , \"cherry\"}\n",
    "print(\"kiwi\" in thisset)"
   ]
  },
  {
   "cell_type": "code",
   "execution_count": 50,
   "id": "e5fcce3d-8c77-441a-9a7c-c31cc7029222",
   "metadata": {},
   "outputs": [
    {
     "name": "stdout",
     "output_type": "stream",
     "text": [
      "{'orange', 'banana', 'apple', 'cherry'}\n"
     ]
    }
   ],
   "source": [
    "thisset = {\"apple\" , \"banana\" , \"cherry\"}\n",
    "thisset.add(\"orange\")\n",
    "print(thisset)"
   ]
  },
  {
   "cell_type": "code",
   "execution_count": 54,
   "id": "659cedc5-2ff2-434d-931c-ca1154a7e46f",
   "metadata": {},
   "outputs": [
    {
     "name": "stdout",
     "output_type": "stream",
     "text": [
      "{'banana', 'apple'}\n"
     ]
    }
   ],
   "source": [
    "thisset = {\"apple\" , \"banana\" , \"cherry\"}\n",
    "thisset.remove(\"cherry\")\n",
    "print(thisset)"
   ]
  },
  {
   "cell_type": "code",
   "execution_count": 56,
   "id": "1c1951ff-c2f5-4e97-b16d-8c8cfa0b46c7",
   "metadata": {},
   "outputs": [
    {
     "name": "stdout",
     "output_type": "stream",
     "text": [
      "{'banana', 'apple', 'cherry'}\n"
     ]
    }
   ],
   "source": [
    "thisset = {\"apple\" , \"banana\" , \"cherry\"}\n",
    "thisset.discard(\"kiwi\")\n",
    "print(thisset)"
   ]
  },
  {
   "cell_type": "code",
   "execution_count": null,
   "id": "55053376-430b-4576-a756-d488533ddf63",
   "metadata": {},
   "outputs": [],
   "source": []
  }
 ],
 "metadata": {
  "kernelspec": {
   "display_name": "Python 3 (ipykernel)",
   "language": "python",
   "name": "python3"
  },
  "language_info": {
   "codemirror_mode": {
    "name": "ipython",
    "version": 3
   },
   "file_extension": ".py",
   "mimetype": "text/x-python",
   "name": "python",
   "nbconvert_exporter": "python",
   "pygments_lexer": "ipython3",
   "version": "3.12.4"
  }
 },
 "nbformat": 4,
 "nbformat_minor": 5
}
