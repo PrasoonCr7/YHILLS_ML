{
 "cells": [
  {
   "cell_type": "markdown",
   "id": "582a49d9-1f59-4b05-8f4a-9d1a771d544b",
   "metadata": {},
   "source": [
    "Dictionaries are used to store data values in key:values pairs.\n",
    "\n",
    "A dictionary is a collection which is ordered , changeable and do not allow duplicates."
   ]
  },
  {
   "cell_type": "code",
   "execution_count": null,
   "id": "e942a419-90a0-46a8-bb23-9778e91828d3",
   "metadata": {},
   "outputs": [],
   "source": []
  },
  {
   "cell_type": "code",
   "execution_count": 3,
   "id": "8bfc04c8-ea28-4dc0-96f3-0c4e0fd25470",
   "metadata": {},
   "outputs": [
    {
     "name": "stdout",
     "output_type": "stream",
     "text": [
      "{'model': 'mustang', 'brand': 'ford', 'year': 1920}\n"
     ]
    }
   ],
   "source": [
    " car = {\n",
    "     \"model\" : \"mustang\",\n",
    "     \"brand\" : \"ford\",\n",
    "     \"year\" : 1920\n",
    "}\n",
    "print(car)\n"
   ]
  },
  {
   "cell_type": "code",
   "execution_count": 5,
   "id": "9d79a378-16fa-4fda-9d7e-2e016a179435",
   "metadata": {},
   "outputs": [
    {
     "data": {
      "text/plain": [
       "dict"
      ]
     },
     "execution_count": 5,
     "metadata": {},
     "output_type": "execute_result"
    }
   ],
   "source": [
    "type(car)\n"
   ]
  },
  {
   "cell_type": "code",
   "execution_count": 9,
   "id": "597adaa3-4c05-40c7-b6f6-fe5095dda065",
   "metadata": {},
   "outputs": [
    {
     "name": "stdout",
     "output_type": "stream",
     "text": [
      "mustang\n"
     ]
    }
   ],
   "source": [
    "print(car[\"model\"])"
   ]
  },
  {
   "cell_type": "code",
   "execution_count": 3,
   "id": "2810ac86-f290-45fd-81d5-be4620cc50b1",
   "metadata": {},
   "outputs": [
    {
     "name": "stdout",
     "output_type": "stream",
     "text": [
      "{'model': 'mustang', 'brand': 'ford', 'year': 2000}\n"
     ]
    }
   ],
   "source": [
    "car = {\n",
    "     \"model\" : \"mustang\",\n",
    "     \"brand\" : \"ford\",\n",
    "     \"year\" : 1920 , \n",
    "    \"year\" : 2000   # mutable - changable / update\n",
    "}\n",
    "print(car)\n"
   ]
  },
  {
   "cell_type": "code",
   "execution_count": 5,
   "id": "1453630e-548d-4bf8-bf16-6c9603272475",
   "metadata": {},
   "outputs": [
    {
     "data": {
      "text/plain": [
       "3"
      ]
     },
     "execution_count": 5,
     "metadata": {},
     "output_type": "execute_result"
    }
   ],
   "source": [
    " len(car)\n"
   ]
  },
  {
   "cell_type": "code",
   "execution_count": 23,
   "id": "4237ad40-ecdb-4c3c-9afe-4db41539ce50",
   "metadata": {},
   "outputs": [
    {
     "name": "stdout",
     "output_type": "stream",
     "text": [
      "{'model': 'mustang', 'brand': 'ford', 'year': 1920, 'electric': False, 'colors': ['red', 'blue', 'orange']}\n"
     ]
    }
   ],
   "source": [
    "thisdict = {\n",
    "    \"model\" : \"mustang\" , \n",
    "    \"brand\" : \"ford\" ,\n",
    "    \"year\": 1920 ,\n",
    "    \"electric\" : False,\n",
    "    \"colors\":['red' , 'blue' , 'orange']\n",
    "}\n",
    "print(thisdict)\n"
   ]
  },
  {
   "cell_type": "code",
   "execution_count": 11,
   "id": "7d0cfe8c-8352-4f26-b7ea-c09d5504dc4f",
   "metadata": {},
   "outputs": [
    {
     "name": "stdout",
     "output_type": "stream",
     "text": [
      "['red', 'blue', 'orange']\n"
     ]
    }
   ],
   "source": [
    "print(thisdict['colors'])"
   ]
  },
  {
   "cell_type": "code",
   "execution_count": 19,
   "id": "e6fd3db9-18ef-467c-96d2-fe2ba1f09181",
   "metadata": {},
   "outputs": [
    {
     "data": {
      "text/plain": [
       "'mustang'"
      ]
     },
     "execution_count": 19,
     "metadata": {},
     "output_type": "execute_result"
    }
   ],
   "source": [
    "thisdict.get('model')"
   ]
  },
  {
   "cell_type": "code",
   "execution_count": 27,
   "id": "2debadb8-4340-41f4-ab26-8c657c0c446d",
   "metadata": {},
   "outputs": [
    {
     "data": {
      "text/plain": [
       "dict_keys(['model', 'brand', 'year', 'electric', 'colors'])"
      ]
     },
     "execution_count": 27,
     "metadata": {},
     "output_type": "execute_result"
    }
   ],
   "source": [
    "thisdict.keys()\n"
   ]
  },
  {
   "cell_type": "code",
   "execution_count": 29,
   "id": "84ba429d-d51b-4851-99c5-760ca8d4d73a",
   "metadata": {},
   "outputs": [
    {
     "data": {
      "text/plain": [
       "dict_values(['mustang', 'ford', 1920, False, ['red', 'blue', 'orange']])"
      ]
     },
     "execution_count": 29,
     "metadata": {},
     "output_type": "execute_result"
    }
   ],
   "source": [
    "thisdict.values()\n"
   ]
  },
  {
   "cell_type": "code",
   "execution_count": 31,
   "id": "02bdaad4-c94f-438c-b73d-55ccd2dc9231",
   "metadata": {},
   "outputs": [
    {
     "name": "stdout",
     "output_type": "stream",
     "text": [
      "{'model': 'mustang', 'brand': 'ford', 'year': 1920, 'electric': False, 'colors': ['red', 'blue', 'orange'], 'fuel type': 'petrol'}\n"
     ]
    }
   ],
   "source": [
    "thisdict[\"fuel type\"] =\"petrol\"\n",
    "print(thisdict)\n"
   ]
  },
  {
   "cell_type": "code",
   "execution_count": 33,
   "id": "fb51b66b-50e8-4779-8b99-1f22c868dd0c",
   "metadata": {},
   "outputs": [
    {
     "data": {
      "text/plain": [
       "dict_items([('model', 'mustang'), ('brand', 'ford'), ('year', 1920), ('electric', False), ('colors', ['red', 'blue', 'orange']), ('fuel type', 'petrol')])"
      ]
     },
     "execution_count": 33,
     "metadata": {},
     "output_type": "execute_result"
    }
   ],
   "source": [
    "thisdict.items()\n"
   ]
  },
  {
   "cell_type": "code",
   "execution_count": 39,
   "id": "12cdc665-3b10-4704-bf5e-0328b960898f",
   "metadata": {},
   "outputs": [
    {
     "name": "stdout",
     "output_type": "stream",
     "text": [
      "{'model': 'mustang', 'brand': 'ford', 'year': 2020, 'electric': False, 'colors': ['red', 'blue', 'orange'], 'fuel type': 'petrol'}\n"
     ]
    }
   ],
   "source": [
    "thisdict ['year'] = 2020\n",
    "print(thisdict)\n",
    "    "
   ]
  },
  {
   "cell_type": "code",
   "execution_count": 47,
   "id": "6be37a1a-e65d-44de-aa01-811f9f3fe470",
   "metadata": {},
   "outputs": [
    {
     "name": "stdout",
     "output_type": "stream",
     "text": [
      "{'model': 'mustang', 'brand': 'ford', 'year': 2020, 'electric': False, 'fuel type': 'petrol'}\n"
     ]
    }
   ],
   "source": [
    "thisdict.pop('colors')\n",
    "print(thisdict)"
   ]
  },
  {
   "cell_type": "code",
   "execution_count": 56,
   "id": "37f455d1-aa45-425f-a0a8-dfdd9d5b81cc",
   "metadata": {},
   "outputs": [
    {
     "name": "stdout",
     "output_type": "stream",
     "text": [
      "{}\n"
     ]
    }
   ],
   "source": [
    "thisdict.clear()\n",
    "print(thisdict)"
   ]
  },
  {
   "cell_type": "markdown",
   "id": "59a8c24e-3123-4da8-bc34-3c8a8bf58a29",
   "metadata": {},
   "source": [
    "For Loop and While Loop\n"
   ]
  },
  {
   "cell_type": "code",
   "execution_count": 2,
   "id": "1584552e-aa66-4282-81e1-9f4a10f2cd04",
   "metadata": {},
   "outputs": [
    {
     "name": "stdout",
     "output_type": "stream",
     "text": [
      "apple\n",
      "mango\n",
      "papaya\n"
     ]
    }
   ],
   "source": [
    "fruits = ['apple' , 'mango' , 'papaya']\n",
    "for i in fruits:\n",
    "    print(i)\n",
    "    "
   ]
  },
  {
   "cell_type": "code",
   "execution_count": 8,
   "id": "f3517701-307e-47ff-a1d2-2e510705ebf9",
   "metadata": {},
   "outputs": [
    {
     "name": "stdout",
     "output_type": "stream",
     "text": [
      "b\n",
      "a\n",
      "n\n",
      "a\n",
      "n\n",
      "a\n"
     ]
    }
   ],
   "source": [
    "for x in 'banana':\n",
    "    print(x)\n"
   ]
  },
  {
   "cell_type": "code",
   "execution_count": 1,
   "id": "137038dd-6990-470d-992f-608b65fdca5b",
   "metadata": {},
   "outputs": [
    {
     "name": "stdout",
     "output_type": "stream",
     "text": [
      "apple\n",
      "cherry\n",
      "banana\n"
     ]
    }
   ],
   "source": [
    "fruits = [\"apple\",\"cherry\",\"banana\",\"papaya\",\"orange\"]\n",
    "for i in fruits :\n",
    "    print(i)\n",
    "    \n",
    "    if i == \"banana\":\n",
    "       break     # break means it will will terminate the process after banana bcoz of logic\n"
   ]
  },
  {
   "cell_type": "code",
   "execution_count": 60,
   "id": "1ab4590e-e0cf-4600-91d9-a095049777cc",
   "metadata": {},
   "outputs": [
    {
     "name": "stdout",
     "output_type": "stream",
     "text": [
      "0\n",
      "1\n",
      "2\n",
      "3\n",
      "4\n",
      "5\n",
      "6\n",
      "7\n",
      "8\n",
      "9\n"
     ]
    }
   ],
   "source": [
    "for x in range(10):\n",
    "    print(x)"
   ]
  },
  {
   "cell_type": "code",
   "execution_count": 62,
   "id": "023227b5-4c62-4e11-821b-b6b89e865e45",
   "metadata": {},
   "outputs": [
    {
     "name": "stdout",
     "output_type": "stream",
     "text": [
      "1\n",
      "2\n",
      "3\n",
      "4\n",
      "5\n",
      "6\n",
      "7\n",
      "8\n",
      "9\n",
      "10\n",
      "11\n"
     ]
    }
   ],
   "source": [
    "for x in range(1 , 12):\n",
    "    print(x)"
   ]
  },
  {
   "cell_type": "code",
   "execution_count": 64,
   "id": "e68c2539-894b-4efb-9d34-2e050f2b27ed",
   "metadata": {},
   "outputs": [
    {
     "name": "stdout",
     "output_type": "stream",
     "text": [
      "1\n",
      "2\n",
      "3\n",
      "4\n",
      "5\n",
      "6\n"
     ]
    }
   ],
   "source": [
    "i = 1\n",
    "while i <7 :\n",
    "    print(i)\n",
    "    i = i+1"
   ]
  },
  {
   "cell_type": "code",
   "execution_count": 66,
   "id": "d05cd8ac-166f-485e-92d5-7f32e55f727b",
   "metadata": {},
   "outputs": [
    {
     "name": "stdin",
     "output_type": "stream",
     "text": [
      " prasoon\n"
     ]
    }
   ],
   "source": [
    "name = input()"
   ]
  },
  {
   "cell_type": "code",
   "execution_count": null,
   "id": "5e16e6f1-0875-4858-a568-b4515c0e709f",
   "metadata": {},
   "outputs": [],
   "source": []
  }
 ],
 "metadata": {
  "kernelspec": {
   "display_name": "Python 3 (ipykernel)",
   "language": "python",
   "name": "python3"
  },
  "language_info": {
   "codemirror_mode": {
    "name": "ipython",
    "version": 3
   },
   "file_extension": ".py",
   "mimetype": "text/x-python",
   "name": "python",
   "nbconvert_exporter": "python",
   "pygments_lexer": "ipython3",
   "version": "3.12.4"
  }
 },
 "nbformat": 4,
 "nbformat_minor": 5
}
