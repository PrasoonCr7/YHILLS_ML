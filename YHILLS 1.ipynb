{
 "cells": [
  {
   "cell_type": "markdown",
   "id": "18b44773-3bc6-43f6-8c32-9616122d888c",
   "metadata": {},
   "source": [
    "#  a variable name start with a letter or the underscore\n",
    "# a variable cant start with the number\n",
    "# a variable name can only contain alpha numeric character and underscore\n",
    "# a variable name can be any python keyword\n",
    " "
   ]
  },
  {
   "cell_type": "code",
   "execution_count": 8,
   "id": "3027b6f3-0443-4287-b2ff-312aabe2f652",
   "metadata": {},
   "outputs": [
    {
     "name": "stdout",
     "output_type": "stream",
     "text": [
      "uttam\n"
     ]
    },
    {
     "data": {
      "text/plain": [
       "str"
      ]
     },
     "execution_count": 8,
     "metadata": {},
     "output_type": "execute_result"
    }
   ],
   "source": [
    "name = \"uttam\"\n",
    "print(name)\n",
    "type(name)"
   ]
  },
  {
   "cell_type": "code",
   "execution_count": 10,
   "id": "b1d06f62-ac56-4876-a03b-797e3206b49a",
   "metadata": {},
   "outputs": [],
   "source": [
    "# data types\n",
    "# text: string(str)\n",
    "# numeric: (int,float,complex)\n",
    "# sequence: (list,tuple,range)\n",
    "# mapping: dictionary(dict)\n",
    "# set: set,frozeset\n",
    "# booleentype :bool\n",
    "# none type :Nonetype"
   ]
  },
  {
   "cell_type": "code",
   "execution_count": 32,
   "id": "13921fa4-5a0a-432d-b04f-0d93cd0be47d",
   "metadata": {},
   "outputs": [
    {
     "name": "stdout",
     "output_type": "stream",
     "text": [
      "8 8 5\n"
     ]
    },
    {
     "data": {
      "text/plain": [
       "int"
      ]
     },
     "execution_count": 32,
     "metadata": {},
     "output_type": "execute_result"
    }
   ],
   "source": [
    "val = 8\n",
    "val1 = 8\n",
    "val2 = 5\n",
    "print(val,val1,val2)\n",
    "type(val)\n"
   ]
  },
  {
   "cell_type": "code",
   "execution_count": 50,
   "id": "b0a3a470-96e9-4e77-a4fc-d173ad70a66b",
   "metadata": {},
   "outputs": [
    {
     "name": "stdout",
     "output_type": "stream",
     "text": [
      "2\n",
      "3\n",
      "7\n"
     ]
    }
   ],
   "source": [
    "x = 2\n",
    "y = int (3.8)\n",
    "z = \"7\"\n",
    "print(x)\n",
    "print(y)\n",
    "print(z)"
   ]
  },
  {
   "cell_type": "code",
   "execution_count": 52,
   "id": "1ea52fd5-bdab-4b66-9b54-e885adcbe455",
   "metadata": {},
   "outputs": [
    {
     "data": {
      "text/plain": [
       "str"
      ]
     },
     "execution_count": 52,
     "metadata": {},
     "output_type": "execute_result"
    }
   ],
   "source": [
    "type(z)\n"
   ]
  },
  {
   "cell_type": "code",
   "execution_count": 54,
   "id": "0c4b817e-87ca-481e-b56c-e3fcaf8c5d40",
   "metadata": {},
   "outputs": [
    {
     "data": {
      "text/plain": [
       "int"
      ]
     },
     "execution_count": 54,
     "metadata": {},
     "output_type": "execute_result"
    }
   ],
   "source": [
    "type(y)"
   ]
  },
  {
   "cell_type": "code",
   "execution_count": 58,
   "id": "e9df93b2-6bb3-49cc-9514-3946abc4b371",
   "metadata": {},
   "outputs": [
    {
     "name": "stdout",
     "output_type": "stream",
     "text": [
      "(5+5j)\n"
     ]
    },
    {
     "data": {
      "text/plain": [
       "complex"
      ]
     },
     "execution_count": 58,
     "metadata": {},
     "output_type": "execute_result"
    }
   ],
   "source": [
    "c = 5+5j\n",
    "print(c)\n",
    "type(c)\n"
   ]
  },
  {
   "cell_type": "code",
   "execution_count": 60,
   "id": "cfdfb962-2a97-4025-8896-b90717b160e8",
   "metadata": {},
   "outputs": [
    {
     "name": "stdout",
     "output_type": "stream",
     "text": [
      "17\n"
     ]
    }
   ],
   "source": [
    "a =8\n",
    "b=9\n",
    "c=a+b\n",
    "print(c)"
   ]
  },
  {
   "cell_type": "code",
   "execution_count": 72,
   "id": "2547e57d-1fe1-419c-bbbc-9342ed8cbcc7",
   "metadata": {},
   "outputs": [
    {
     "name": "stdout",
     "output_type": "stream",
     "text": [
      "True\n",
      "False\n"
     ]
    }
   ],
   "source": [
    "print(10>9)\n",
    "print(10 == 9)"
   ]
  },
  {
   "cell_type": "code",
   "execution_count": 78,
   "id": "c291463a-e327-406d-82ec-eeaa646c6ee0",
   "metadata": {},
   "outputs": [
    {
     "data": {
      "text/plain": [
       "False"
      ]
     },
     "execution_count": 78,
     "metadata": {},
     "output_type": "execute_result"
    }
   ],
   "source": [
    "True ==False\n"
   ]
  },
  {
   "cell_type": "code",
   "execution_count": 80,
   "id": "518fddfe-21a0-44f5-82e1-cdc8ea127c91",
   "metadata": {},
   "outputs": [
    {
     "data": {
      "text/plain": [
       "True"
      ]
     },
     "execution_count": 80,
     "metadata": {},
     "output_type": "execute_result"
    }
   ],
   "source": [
    "True == 1"
   ]
  },
  {
   "cell_type": "code",
   "execution_count": 3,
   "id": "f6b37273-4075-426b-b187-928599147c69",
   "metadata": {},
   "outputs": [
    {
     "data": {
      "text/plain": [
       "True"
      ]
     },
     "execution_count": 3,
     "metadata": {},
     "output_type": "execute_result"
    }
   ],
   "source": [
    "False == 0"
   ]
  },
  {
   "cell_type": "code",
   "execution_count": null,
   "id": "5340b6e9-5d24-4782-a569-ccc56f6198c7",
   "metadata": {},
   "outputs": [],
   "source": []
  }
 ],
 "metadata": {
  "kernelspec": {
   "display_name": "Python 3 (ipykernel)",
   "language": "python",
   "name": "python3"
  },
  "language_info": {
   "codemirror_mode": {
    "name": "ipython",
    "version": 3
   },
   "file_extension": ".py",
   "mimetype": "text/x-python",
   "name": "python",
   "nbconvert_exporter": "python",
   "pygments_lexer": "ipython3",
   "version": "3.12.4"
  }
 },
 "nbformat": 4,
 "nbformat_minor": 5
}
